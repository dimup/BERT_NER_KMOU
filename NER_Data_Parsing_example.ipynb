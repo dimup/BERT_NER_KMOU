{
  "nbformat": 4,
  "nbformat_minor": 0,
  "metadata": {
    "colab": {
      "name": "NER_Data_Parsing_example.ipynb",
      "provenance": [],
      "collapsed_sections": [],
      "toc_visible": true,
      "include_colab_link": true
    },
    "kernelspec": {
      "name": "python3",
      "display_name": "Python 3"
    },
    "accelerator": "GPU"
  },
  "cells": [
    {
      "cell_type": "markdown",
      "metadata": {
        "id": "view-in-github",
        "colab_type": "text"
      },
      "source": [
        "<a href=\"https://colab.research.google.com/github/dimup/NER_BERTandKoBERT/blob/main/NER_Data_Parsing_example.ipynb\" target=\"_parent\"><img src=\"https://colab.research.google.com/assets/colab-badge.svg\" alt=\"Open In Colab\"/></a>"
      ]
    },
    {
      "cell_type": "markdown",
      "metadata": {
        "id": "xpqaklLdInMa"
      },
      "source": [
        "### **Google dirve와 연동하기 위한 설정 작업**"
      ]
    },
    {
      "cell_type": "code",
      "metadata": {
        "id": "_XhnoYmQ4YHg",
        "colab": {
          "base_uri": "https://localhost:8080/",
          "height": 125
        },
        "outputId": "0ed00e0f-b167-429e-efdb-c1671f6634a5"
      },
      "source": [
        "from google.colab import drive\n",
        "drive.mount('/content/drive')"
      ],
      "execution_count": null,
      "outputs": [
        {
          "output_type": "stream",
          "text": [
            "Go to this URL in a browser: https://accounts.google.com/o/oauth2/auth?client_id=947318989803-6bn6qk8qdgf4n4g3pfee6491hc0brc4i.apps.googleusercontent.com&redirect_uri=urn%3aietf%3awg%3aoauth%3a2.0%3aoob&response_type=code&scope=email%20https%3a%2f%2fwww.googleapis.com%2fauth%2fdocs.test%20https%3a%2f%2fwww.googleapis.com%2fauth%2fdrive%20https%3a%2f%2fwww.googleapis.com%2fauth%2fdrive.photos.readonly%20https%3a%2f%2fwww.googleapis.com%2fauth%2fpeopleapi.readonly\n",
            "\n",
            "Enter your authorization code:\n",
            "··········\n",
            "Mounted at /content/drive\n"
          ],
          "name": "stdout"
        }
      ]
    },
    {
      "cell_type": "markdown",
      "metadata": {
        "id": "syfLBhJiEZYm"
      },
      "source": [
        "### **해양대학교 개체명 코퍼스 파일에서 input 문장과 target 문장만을 파싱하는 코드**"
      ]
    },
    {
      "cell_type": "code",
      "metadata": {
        "id": "0UOMG2u0EYYB"
      },
      "source": [
        "def load_data_from_txt(file_full_name):\n",
        "      with codecs.open(file_full_name, \"r\", \"utf-8\") as io:\n",
        "          lines = io.readlines()\n",
        "          # parsing parameter\n",
        "          prev_line = \"\"\n",
        "          save_flag = False\n",
        "          count = 0\n",
        "          sharp_lines = []\n",
        "          for line in lines:\n",
        "              if prev_line == \"\\n\" or prev_line == \"\":\n",
        "                  save_flag = True\n",
        "              if line[:3] == \"## \" and save_flag is True:\n",
        "                  count += 1\n",
        "                  sharp_lines.append(line[3:])\n",
        "              if count == 3:\n",
        "                  count = 0\n",
        "                  save_flag = False\n",
        "              prev_line = line\n",
        "          list_of_source_no, list_of_source_str, list_of_target_str = sharp_lines[0::3], sharp_lines[1::3], sharp_lines[2::3]\n",
        "      return list_of_source_no, list_of_source_str, list_of_target_str"
      ],
      "execution_count": null,
      "outputs": []
    },
    {
      "cell_type": "code",
      "metadata": {
        "id": "eddQttqIFCUm"
      },
      "source": [
        "def load_data(train_data_dir):\n",
        "    list_of_file_name = [file_name for file_name in os.listdir(train_data_dir) if '.txt' in file_name]\n",
        "    list_of_full_file_path = [train_data_dir+'/'+file_name for file_name in list_of_file_name]\n",
        "    print(\"num of files: \", len(list_of_full_file_path))\n",
        "\n",
        "    list_of_total_source_no, list_of_total_source_str, list_of_total_target_str = [], [], []\n",
        "    for i, full_file_path in enumerate(list_of_full_file_path):\n",
        "        list_of_source_no, list_of_source_str, list_of_target_str = load_data_from_txt(file_full_name=full_file_path)\n",
        "        list_of_total_source_str.extend(list_of_source_str)\n",
        "        list_of_total_target_str.extend(list_of_target_str)\n",
        "    assert len(list_of_total_source_str) == len(list_of_total_target_str)\n",
        "\n",
        "    return list_of_total_source_no, list_of_total_source_str, list_of_total_target_str"
      ],
      "execution_count": null,
      "outputs": []
    },
    {
      "cell_type": "code",
      "metadata": {
        "id": "zxjqWIzwFWsp",
        "colab": {
          "base_uri": "https://localhost:8080/",
          "height": 35
        },
        "outputId": "5f53ba20-0962-4930-b304-83462991e8bb"
      },
      "source": [
        "list_of_total_source_no, list_of_total_source_str, list_of_total_target_str = load_data('drive/My Drive/BERT_NER/train_data')"
      ],
      "execution_count": null,
      "outputs": [
        {
          "output_type": "stream",
          "text": [
            "num of files:  1417\n"
          ],
          "name": "stdout"
        }
      ]
    },
    {
      "cell_type": "markdown",
      "metadata": {
        "id": "NS--sXgOQ-xR"
      },
      "source": [
        "### **총 input 문장과 target 문장을 각각 input.txt, target.txt로 나누어 드라이브에 저장**"
      ]
    },
    {
      "cell_type": "code",
      "metadata": {
        "id": "7X_q_n41PVsC"
      },
      "source": [
        "f = open(\"drive/My Drive/BERT_NER/input_text.txt\", 'w')\n",
        "for txt in list_of_total_source_str:\n",
        "    f.write(txt)\n",
        "f.close()"
      ],
      "execution_count": null,
      "outputs": []
    },
    {
      "cell_type": "code",
      "metadata": {
        "id": "ZDiT0vGJQcWq"
      },
      "source": [
        "f = open(\"drive/My Drive/BERT_NER/target_text.txt\", 'w')\n",
        "for txt in list_of_total_target_str:\n",
        "    f.write(txt)\n",
        "f.close()"
      ],
      "execution_count": null,
      "outputs": []
    },
    {
      "cell_type": "markdown",
      "metadata": {
        "id": "n8YUx3FJ9agV"
      },
      "source": [
        "### **따옴표 처리 예시**"
      ]
    },
    {
      "cell_type": "code",
      "metadata": {
        "id": "2teWq5n17AvO",
        "colab": {
          "base_uri": "https://localhost:8080/",
          "height": 34
        },
        "outputId": "f83206c9-2165-4ee1-da98-5031db6ddc83"
      },
      "source": [
        "modified_input_list = []\n",
        "num = 0\n",
        "\n",
        "for i in range(0, len(input_list)):\n",
        "  if '“' in input_list[i]:\n",
        "    result = input_list[i].replace('“', '\"')\n",
        "    result = result.replace('”', '\"')\n",
        "    modified_input_list.append(result)\n",
        "    num+=1\n",
        "  else:\n",
        "    modified_input_list.append(input_list[i])\n",
        "\n",
        "print(num)"
      ],
      "execution_count": null,
      "outputs": [
        {
          "output_type": "stream",
          "text": [
            "118\n"
          ],
          "name": "stdout"
        }
      ]
    },
    {
      "cell_type": "code",
      "metadata": {
        "id": "6cMt5fVD8smg",
        "colab": {
          "base_uri": "https://localhost:8080/",
          "height": 34
        },
        "outputId": "f9ec6811-fffe-4a62-9325-4496ffc5afe2"
      },
      "source": [
        "modified_target_list = []\n",
        "num = 0\n",
        "\n",
        "for i in range(0, len(target_list)):\n",
        "  if '“' in target_list[i]:\n",
        "    result = target_list[i].replace('“', '\"')\n",
        "    result = result.replace('”', '\"')\n",
        "    modified_target_list.append(result)\n",
        "    num+=1\n",
        "  else:\n",
        "    modified_target_list.append(target_list[i])\n",
        "\n",
        "print(num)"
      ],
      "execution_count": null,
      "outputs": [
        {
          "output_type": "stream",
          "text": [
            "118\n"
          ],
          "name": "stdout"
        }
      ]
    }
  ]
}